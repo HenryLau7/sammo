{
 "cells": [
  {
   "cell_type": "code",
   "execution_count": 5,
   "metadata": {
    "editable": true,
    "slideshow": {
     "slide_type": ""
    },
    "tags": [
     "remove-cell"
    ]
   },
   "outputs": [],
   "source": [
    "# Load from parent directory if not installed\n",
    "import importlib\n",
    "import os\n",
    "\n",
    "if not importlib.util.find_spec(\"sammo\"):\n",
    "    import sys\n",
    "\n",
    "    sys.path.append(\"../\")\n",
    "os.environ[\"CACHE_FILE\"] = \"cache/quickstart.tsv\""
   ]
  },
  {
   "cell_type": "markdown",
   "metadata": {
    "editable": true,
    "slideshow": {
     "slide_type": ""
    },
    "tags": []
   },
   "source": [
    "# 🚀 Quick Start\n",
    "\n",
    "At the core of SAMMO are symbolic prompt programs. This tutorial will show you a few simple programss.\n",
    "\n",
    "To run this example, you need API credentials to an OpenAI API compatible model. \n",
    "\n",
    "```{note}\n",
    "You an run all of these as live notebooks on Binder. Simply click the rocket icon above.\n",
    "```\n",
    "Below, we will use ChatGPT-3.5 and also cache any requests made."
   ]
  },
  {
   "cell_type": "code",
   "execution_count": 8,
   "metadata": {
    "editable": true,
    "slideshow": {
     "slide_type": ""
    },
    "tags": []
   },
   "outputs": [],
   "source": [
    "# %load -r 3:25 _init.py\n",
    "import pathlib\n",
    "import sammo\n",
    "from sammo.runners import OpenAIChat\n",
    "from sammo.base import Template, EvaluationScore\n",
    "from sammo.components import Output, GenerateText, ForEach, Union\n",
    "from sammo.extractors import ExtractRegex\n",
    "from sammo.data import DataTable\n",
    "import json\n",
    "import requests\n",
    "import os\n",
    "\n",
    "if not 'OPENAI_API_KEY' in os.environ:\n",
    "    raise ValueError(\"Please set the environment variable 'OPENAI_API_KEY'.\")\n",
    "\n",
    "_ = sammo.setup_logger(\"WARNING\")  # we're only interested in warnings for now\n",
    "\n",
    "runner = OpenAIChat(\n",
    "    model_id=\"gpt-3.5-turbo\",\n",
    "    api_config={\"api_key\": os.environ['OPENAI_API_KEY']},\n",
    "    cache=os.getenv(\"CACHE_FILE\", \"cache.tsv\"),\n",
    "    timeout=30,\n",
    ")"
   ]
  },
  {
   "cell_type": "markdown",
   "metadata": {
    "editable": true,
    "slideshow": {
     "slide_type": ""
    },
    "tags": []
   },
   "source": [
    "Let's write our first symbolic prompt program (SPP)! How about a quick 'Hello World?'?"
   ]
  },
  {
   "cell_type": "code",
   "execution_count": 11,
   "metadata": {
    "editable": true,
    "slideshow": {
     "slide_type": ""
    },
    "tags": []
   },
   "outputs": [
    {
     "data": {
      "text/plain": [
       "+---------+------------------------------------+\n",
       "| input   | output                             |\n",
       "+=========+====================================+\n",
       "| None    | Hello! How can I assist you today? |\n",
       "+---------+------------------------------------+\n",
       "Constants: None"
      ]
     },
     "execution_count": 11,
     "metadata": {},
     "output_type": "execute_result"
    }
   ],
   "source": [
    "spp_hello_world = Output(GenerateText(\"Hello World!\"))\n",
    "spp_hello_world.run(runner)"
   ]
  },
  {
   "cell_type": "markdown",
   "metadata": {},
   "source": [
    "A symbolic prompt program is simply a tree of nested expressions. We can see this by printing the output:"
   ]
  },
  {
   "cell_type": "code",
   "execution_count": 12,
   "metadata": {},
   "outputs": [
    {
     "name": "stdout",
     "output_type": "stream",
     "text": [
      "Output(\n",
      "  child = GenerateText(\n",
      "    child = 'Hello World!',\n",
      "    name = None,\n",
      "    system_prompt = None,\n",
      "    history = None,\n",
      "    seed = 0,\n",
      "    randomness = 0,\n",
      "    max_tokens = None,\n",
      "    json_mode = False,\n",
      "    on_error = 'empty_result'\n",
      "  ),\n",
      "  minibatch_size = 1,\n",
      "  on_error = 'raise'\n",
      ")\n"
     ]
    }
   ],
   "source": [
    "print(spp_hello_world)"
   ]
  },
  {
   "cell_type": "markdown",
   "metadata": {},
   "source": [
    "Calls via `.run()` always return a DataTable which keeps track of the input and output. Inputs refer to dynamic input data which we did not specify here."
   ]
  },
  {
   "cell_type": "markdown",
   "metadata": {
    "editable": true,
    "slideshow": {
     "slide_type": ""
    },
    "tags": []
   },
   "source": [
    "## Writing symbolic prompt programs\n",
    "Okay, let's move on to a more interesting example. For a list of countries, we want the top reason to visit:"
   ]
  },
  {
   "cell_type": "code",
   "execution_count": 18,
   "metadata": {
    "editable": true,
    "slideshow": {
     "slide_type": ""
    },
    "tags": []
   },
   "outputs": [
    {
     "name": "stdout",
     "output_type": "stream",
     "text": [
      "minibatches[##################################################################################]5/5[00:00<??:??, 0.00it/s]\n"
     ]
    },
    {
     "data": {
      "text/plain": [
       "+-------------+--------------------------------------------------------------+\n",
       "| input       | output                                                       |\n",
       "+=============+==============================================================+\n",
       "| Switzerland | The stunning natural beauty of the Swiss Alps and crystal-   |\n",
       "|             | clear lakes make Switzerland a must-visit destination for    |\n",
       "|             | outdoor enthusiasts and nature lovers.                       |\n",
       "+-------------+--------------------------------------------------------------+\n",
       "| Morocco     | The top reason to visit Morocco is to experience the vibrant |\n",
       "|             | culture, stunning architecture, and diverse landscapes of    |\n",
       "|             | this North African country.                                  |\n",
       "+-------------+--------------------------------------------------------------+\n",
       "Constants: None"
      ]
     },
     "execution_count": 18,
     "metadata": {},
     "output_type": "execute_result"
    }
   ],
   "source": [
    "COUNTRIES = [\"Switzerland\", \"Morocco\", \"Tanzania\", \"Indonesia\", \"Peru\"]\n",
    "\n",
    "reason_to_visit = GenerateText(\n",
    "    Template(\"What is the top reason to visit {{input}} in one sentence?\")\n",
    ")\n",
    "Output(reason_to_visit).run(runner, COUNTRIES)[:2]"
   ]
  },
  {
   "cell_type": "markdown",
   "metadata": {
    "editable": true,
    "slideshow": {
     "slide_type": ""
    },
    "tags": []
   },
   "source": [
    "What happens under the hood is that SAMMO parallizes the execution across all inputs automatically! \n",
    "\n",
    "Let's add the best time to visit to it and combine both pieces of information."
   ]
  },
  {
   "cell_type": "code",
   "execution_count": 17,
   "metadata": {
    "editable": true,
    "slideshow": {
     "slide_type": ""
    },
    "tags": []
   },
   "outputs": [
    {
     "name": "stdout",
     "output_type": "stream",
     "text": [
      "minibatches[##################################################################################]5/5[00:00<??:??, 0.00it/s]\n"
     ]
    },
    {
     "data": {
      "text/plain": [
       "+-------------+-------------------------------------------------------------+\n",
       "| input       | output                                                      |\n",
       "+=============+=============================================================+\n",
       "| Switzerland | # Switzerland The stunning natural beauty of the Swiss Alps |\n",
       "|             | and crystal-clear lakes make Switzerland a must-visit       |\n",
       "|             | destination for outdoor enthusiasts and nature lovers.  ##  |\n",
       "|             | When to Visit The best time to visit Switzerland is during  |\n",
       "|             | the summer months (June to August) when the weather is warm |\n",
       "|             | and ideal for outdoor activities.                           |\n",
       "+-------------+-------------------------------------------------------------+\n",
       "| Morocco     | # Morocco The top reason to visit Morocco is to experience  |\n",
       "|             | the vibrant culture, stunning architecture, and diverse     |\n",
       "|             | landscapes of this North African country.  ## When to Visit |\n",
       "|             | The best time to visit Morocco is in the spring (March to   |\n",
       "|             | May) when the weather is mild and the landscape is lush and |\n",
       "|             | blooming.                                                   |\n",
       "+-------------+-------------------------------------------------------------+\n",
       "Constants: None"
      ]
     },
     "execution_count": 17,
     "metadata": {},
     "output_type": "execute_result"
    }
   ],
   "source": [
    "when_to_visit = GenerateText(\n",
    "    Template(\n",
    "        \"Which season is the best time to visit {{input}}? Answer in one sentence.\"\n",
    "    )\n",
    ")\n",
    "country_pages = Template(\n",
    "    \"# {{input}}\\n{{reason}}\\n\\n## When to Visit\\n{{when}}\",\n",
    "    reason=reason_to_visit,\n",
    "    when=when_to_visit,\n",
    ")\n",
    "Output(country_pages).run(runner, COUNTRIES)[:2]"
   ]
  },
  {
   "cell_type": "markdown",
   "metadata": {
    "editable": true,
    "slideshow": {
     "slide_type": ""
    },
    "tags": []
   },
   "source": [
    "## Recap\n",
    "Let's talk about some of the key concepts from SAMMO we have used:\n",
    "\n",
    "1. We constructed a **symbolic prompt program** — a dynamic prompt that is re-used for different inputs.\n",
    "2. This metaprompt has a structure which was constructed by nesting **components** from SAMMO. A helpful analogy might be to think of how we construct neural architectures.\n",
    "3. To get the **output** for a metaprompt, we need to wrap the metaprompt in an Output component which returns a DataTable.\n",
    "4. SAMMO **parallelized** execution for us on the input data — no extra work was needed! "
   ]
  }
 ],
 "metadata": {
  "kernelspec": {
   "display_name": "Python 3 (ipykernel)",
   "language": "python",
   "name": "python3"
  },
  "language_info": {
   "codemirror_mode": {
    "name": "ipython",
    "version": 3
   },
   "file_extension": ".py",
   "mimetype": "text/x-python",
   "name": "python",
   "nbconvert_exporter": "python",
   "pygments_lexer": "ipython3",
   "version": "3.11.8"
  },
  "widgets": {
   "application/vnd.jupyter.widget-state+json": {
    "state": {},
    "version_major": 2,
    "version_minor": 0
   }
  }
 },
 "nbformat": 4,
 "nbformat_minor": 4
}
